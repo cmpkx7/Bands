{
 "cells": [
  {
   "cell_type": "code",
   "execution_count": 1,
   "metadata": {
    "collapsed": false
   },
   "outputs": [],
   "source": [
    "import pandas as pd\n",
    "import xlrd\n",
    "import numpy as np\n",
    "%matplotlib inline\n",
    "import matplotlib.pyplot as plt"
   ]
  },
  {
   "cell_type": "code",
   "execution_count": 2,
   "metadata": {
    "collapsed": false,
    "scrolled": true
   },
   "outputs": [
    {
     "name": "stdout",
     "output_type": "stream",
     "text": [
      "total rows:601\n",
      "['Freq', 'b90GHz_500nm', 'b150GHz_500nm', 'b220GHz_500nm', 'b90GHz_565nm', 'b150GHz_565nm', 'b220GHz_565nm', 'b90GHz_580nm', 'b150GHz_580nm', 'b220GHz_580nm', 'b90GHz_585nm', 'b150GHz_585nm', 'b220GHz_585nm', 'b90GHz_600nm', 'b150GHz_600nm', 'b220GHz_600nm', 'b90GHz_480nm', 'b150GHz_485nm', 'b220GHz_485nm', 'b90GHz_515nm', 'b150GHz_515nm', 'b220GHz_515nm', 'b90GHz_530nm', 'b150GHz_530nm', 'b220GHz_530nm', 'b90GHz_550nm', 'b150GHz_550nm', 'b220GHz_550nm']\n"
     ]
    }
   ],
   "source": [
    "data_file=pd.read_excel('SiO2_simulations_3.xls',skiprows=1) #it skips the number of rows I tell it as their are garbage\n",
    "#output the number of rows\n",
    "print(\"total rows:{0}\".format(len(data_file)))\n",
    "#see which headers are available to work with in the datafile\n",
    "print(list(data_file))"
   ]
  },
  {
   "cell_type": "code",
   "execution_count": 3,
   "metadata": {
    "collapsed": true
   },
   "outputs": [],
   "source": [
    "data_file.set_index('Freq',inplace=True)"
   ]
  },
  {
   "cell_type": "code",
   "execution_count": null,
   "metadata": {
    "collapsed": true
   },
   "outputs": [],
   "source": []
  },
  {
   "cell_type": "code",
   "execution_count": 4,
   "metadata": {
    "collapsed": false
   },
   "outputs": [
    {
     "data": {
      "text/plain": [
       "Index(['b90GHz_500nm', 'b150GHz_500nm', 'b220GHz_500nm', 'b90GHz_565nm',\n",
       "       'b150GHz_565nm', 'b220GHz_565nm', 'b90GHz_580nm', 'b150GHz_580nm',\n",
       "       'b220GHz_580nm', 'b90GHz_585nm', 'b150GHz_585nm', 'b220GHz_585nm',\n",
       "       'b90GHz_600nm', 'b150GHz_600nm', 'b220GHz_600nm', 'b90GHz_480nm',\n",
       "       'b150GHz_485nm', 'b220GHz_485nm', 'b90GHz_515nm', 'b150GHz_515nm',\n",
       "       'b220GHz_515nm', 'b90GHz_530nm', 'b150GHz_530nm', 'b220GHz_530nm',\n",
       "       'b90GHz_550nm', 'b150GHz_550nm', 'b220GHz_550nm'],\n",
       "      dtype='object')"
      ]
     },
     "execution_count": 4,
     "metadata": {},
     "output_type": "execute_result"
    }
   ],
   "source": [
    "data_file.columns"
   ]
  },
  {
   "cell_type": "code",
   "execution_count": 5,
   "metadata": {
    "collapsed": true
   },
   "outputs": [],
   "source": [
    "st=np.array([500,500,500,565,565,565,580,580,580,585,585,585,600,600,600,485,485,485,515,515,515,530,530,530,550,550,550]) #array with the simulated thicknesses"
   ]
  },
  {
   "cell_type": "code",
   "execution_count": 6,
   "metadata": {
    "collapsed": false
   },
   "outputs": [
    {
     "data": {
      "text/plain": [
       "array([500, 500, 500, 565, 565, 565, 580, 580, 580, 585, 585, 585, 600,\n",
       "       600, 600, 485, 485, 485, 515, 515, 515, 530, 530, 530, 550, 550, 550])"
      ]
     },
     "execution_count": 6,
     "metadata": {},
     "output_type": "execute_result"
    }
   ],
   "source": [
    "st"
   ]
  },
  {
   "cell_type": "code",
   "execution_count": 7,
   "metadata": {
    "collapsed": false
   },
   "outputs": [
    {
     "name": "stdout",
     "output_type": "stream",
     "text": [
      "total rows:10\n",
      "['Wafer#', 'Thickness', '90_center', '90_width', '90_center_sd', '150_center', '150_width', '150_center_sd', '220_center', '220_width', '220_center_sd']\n"
     ]
    }
   ],
   "source": [
    "fts_pole=pd.read_csv('poleresults.csv',skiprows=0) #Doesn't skip any rows\n",
    "#output the number of rows\n",
    "print(\"total rows:{0}\".format(len(fts_pole)))\n",
    "#see which headers are available to work with in the datafile\n",
    "print(list(fts_pole))\n",
    "fts_pole.set_index('Wafer#',inplace=True)"
   ]
  },
  {
   "cell_type": "code",
   "execution_count": 8,
   "metadata": {
    "collapsed": false
   },
   "outputs": [
    {
     "data": {
      "text/html": [
       "<div>\n",
       "<table border=\"1\" class=\"dataframe\">\n",
       "  <thead>\n",
       "    <tr style=\"text-align: right;\">\n",
       "      <th></th>\n",
       "      <th>Thickness</th>\n",
       "      <th>90_center</th>\n",
       "      <th>90_width</th>\n",
       "      <th>90_center_sd</th>\n",
       "      <th>150_center</th>\n",
       "      <th>150_width</th>\n",
       "      <th>150_center_sd</th>\n",
       "      <th>220_center</th>\n",
       "      <th>220_width</th>\n",
       "      <th>220_center_sd</th>\n",
       "    </tr>\n",
       "    <tr>\n",
       "      <th>Wafer#</th>\n",
       "      <th></th>\n",
       "      <th></th>\n",
       "      <th></th>\n",
       "      <th></th>\n",
       "      <th></th>\n",
       "      <th></th>\n",
       "      <th></th>\n",
       "      <th></th>\n",
       "      <th></th>\n",
       "      <th></th>\n",
       "    </tr>\n",
       "  </thead>\n",
       "  <tbody>\n",
       "    <tr>\n",
       "      <th>136</th>\n",
       "      <td>490</td>\n",
       "      <td>100.4</td>\n",
       "      <td>23.0</td>\n",
       "      <td>1.7</td>\n",
       "      <td>151.4</td>\n",
       "      <td>35.3</td>\n",
       "      <td>1.5</td>\n",
       "      <td>218.5</td>\n",
       "      <td>49.3</td>\n",
       "      <td>0.5</td>\n",
       "    </tr>\n",
       "    <tr>\n",
       "      <th>139</th>\n",
       "      <td>509</td>\n",
       "      <td>98.5</td>\n",
       "      <td>22.0</td>\n",
       "      <td>3.3</td>\n",
       "      <td>152.4</td>\n",
       "      <td>36.3</td>\n",
       "      <td>3.6</td>\n",
       "      <td>22.8</td>\n",
       "      <td>43.9</td>\n",
       "      <td>3.4</td>\n",
       "    </tr>\n",
       "    <tr>\n",
       "      <th>142</th>\n",
       "      <td>510</td>\n",
       "      <td>101.1</td>\n",
       "      <td>23.1</td>\n",
       "      <td>2.2</td>\n",
       "      <td>153.6</td>\n",
       "      <td>36.8</td>\n",
       "      <td>3.4</td>\n",
       "      <td>222.4</td>\n",
       "      <td>46.8</td>\n",
       "      <td>2.3</td>\n",
       "    </tr>\n",
       "    <tr>\n",
       "      <th>147</th>\n",
       "      <td>522</td>\n",
       "      <td>103.4</td>\n",
       "      <td>23.8</td>\n",
       "      <td>3.4</td>\n",
       "      <td>155.5</td>\n",
       "      <td>39.3</td>\n",
       "      <td>4.8</td>\n",
       "      <td>224.2</td>\n",
       "      <td>47.6</td>\n",
       "      <td>2.3</td>\n",
       "    </tr>\n",
       "    <tr>\n",
       "      <th>148</th>\n",
       "      <td>516</td>\n",
       "      <td>102.2</td>\n",
       "      <td>23.4</td>\n",
       "      <td>2.4</td>\n",
       "      <td>155.4</td>\n",
       "      <td>38.6</td>\n",
       "      <td>3.5</td>\n",
       "      <td>226.7</td>\n",
       "      <td>48.9</td>\n",
       "      <td>3.1</td>\n",
       "    </tr>\n",
       "  </tbody>\n",
       "</table>\n",
       "</div>"
      ],
      "text/plain": [
       "        Thickness  90_center  90_width  90_center_sd  150_center  150_width  \\\n",
       "Wafer#                                                                        \n",
       "136           490      100.4      23.0           1.7       151.4       35.3   \n",
       "139           509       98.5      22.0           3.3       152.4       36.3   \n",
       "142           510      101.1      23.1           2.2       153.6       36.8   \n",
       "147           522      103.4      23.8           3.4       155.5       39.3   \n",
       "148           516      102.2      23.4           2.4       155.4       38.6   \n",
       "\n",
       "        150_center_sd  220_center  220_width  220_center_sd  \n",
       "Wafer#                                                       \n",
       "136               1.5       218.5       49.3            0.5  \n",
       "139               3.6        22.8       43.9            3.4  \n",
       "142               3.4       222.4       46.8            2.3  \n",
       "147               4.8       224.2       47.6            2.3  \n",
       "148               3.5       226.7       48.9            3.1  "
      ]
     },
     "execution_count": 8,
     "metadata": {},
     "output_type": "execute_result"
    }
   ],
   "source": [
    "fts_pole.head()"
   ]
  },
  {
   "cell_type": "code",
   "execution_count": 9,
   "metadata": {
    "collapsed": false
   },
   "outputs": [],
   "source": [
    "#fts_pole.plot() #plots all columns agains index\n",
    "#fts_pole.plot(kind='scatter',x='Thickness',y='90_center', x='Thickness',y='150_center', x='Thickness',y='220_center') # scatter plot\n",
    "#fts_pole.plot(kind='density')  # estimate density function\n",
    "#fts_pole.plot(kind='hist')  # histogram"
   ]
  },
  {
   "cell_type": "code",
   "execution_count": 10,
   "metadata": {
    "collapsed": false
   },
   "outputs": [
    {
     "name": "stdout",
     "output_type": "stream",
     "text": [
      "{'b90GHz_500nm': 27.5, 'b150GHz_500nm': 41.5, 'b220GHz_500nm': 51.0, 'b90GHz_565nm': 28.0, 'b150GHz_565nm': 41.0, 'b220GHz_565nm': 49.5, 'b90GHz_580nm': 28.5, 'b150GHz_580nm': 41.0, 'b220GHz_580nm': 49.5, 'b90GHz_585nm': 28.0, 'b150GHz_585nm': 41.0, 'b220GHz_585nm': 49.0, 'b90GHz_600nm': 28.0, 'b150GHz_600nm': 41.0, 'b220GHz_600nm': 49.0, 'b90GHz_480nm': 27.0, 'b150GHz_485nm': 41.5, 'b220GHz_485nm': 51.0, 'b90GHz_515nm': 27.5, 'b150GHz_515nm': 41.0, 'b220GHz_515nm': 50.5, 'b90GHz_530nm': 27.5, 'b150GHz_530nm': 41.5, 'b220GHz_530nm': 50.5, 'b90GHz_550nm': 28.0, 'b150GHz_550nm': 41.0, 'b220GHz_550nm': 50.0}\n"
     ]
    }
   ],
   "source": [
    "widths = {}\n",
    "\n",
    "for col in data_file.columns:\n",
    "    fs = data_file[col][data_file[col].values > 0.5]\n",
    "    df = fs.index[-1]-fs.index[0]\n",
    "    widths[col] = df\n",
    "    \n",
    "print(widths)"
   ]
  },
  {
   "cell_type": "code",
   "execution_count": 11,
   "metadata": {
    "collapsed": false
   },
   "outputs": [
    {
     "name": "stdout",
     "output_type": "stream",
     "text": [
      "{'b90GHz_500nm': 93.25, 'b150GHz_500nm': 147.75, 'b220GHz_500nm': 222.0, 'b90GHz_565nm': 98.0, 'b150GHz_565nm': 154.5, 'b220GHz_565nm': 231.25, 'b90GHz_580nm': 99.25, 'b150GHz_580nm': 156.0, 'b220GHz_580nm': 233.25, 'b90GHz_585nm': 99.5, 'b150GHz_585nm': 156.5, 'b220GHz_585nm': 234.0, 'b90GHz_600nm': 100.5, 'b150GHz_600nm': 158.0, 'b220GHz_600nm': 236.0, 'b90GHz_480nm': 92.0, 'b150GHz_485nm': 146.25, 'b220GHz_485nm': 219.5, 'b90GHz_515nm': 94.25, 'b150GHz_515nm': 149.5, 'b220GHz_515nm': 224.25, 'b90GHz_530nm': 95.75, 'b150GHz_530nm': 151.25, 'b220GHz_530nm': 226.25, 'b90GHz_550nm': 97.0, 'b150GHz_550nm': 153.0, 'b220GHz_550nm': 229.0}\n"
     ]
    }
   ],
   "source": [
    "centers = {}\n",
    "\n",
    "for col in data_file.columns:\n",
    "    fs = data_file[col][data_file[col].values > 0.5]\n",
    "    df = fs.index[-1]-fs.index[0]\n",
    "    widths[col] = df\n",
    "    centers[col]=fs.index[0]+df/2\n",
    "    \n",
    "print(centers)"
   ]
  },
  {
   "cell_type": "code",
   "execution_count": 12,
   "metadata": {
    "collapsed": false
   },
   "outputs": [
    {
     "data": {
      "text/plain": [
       "array([  93.25,  147.75,  222.  ,   98.  ,  154.5 ,  231.25,   99.25,\n",
       "        156.  ,  233.25,   99.5 ,  156.5 ,  234.  ,  100.5 ,  158.  ,\n",
       "        236.  ,   92.  ,  146.25,  219.5 ,   94.25,  149.5 ,  224.25,\n",
       "         95.75,  151.25,  226.25,   97.  ,  153.  ,  229.  ])"
      ]
     },
     "execution_count": 12,
     "metadata": {},
     "output_type": "execute_result"
    }
   ],
   "source": [
    "cent=np.array(list(centers.values()))\n",
    "cent"
   ]
  },
  {
   "cell_type": "code",
   "execution_count": 13,
   "metadata": {
    "collapsed": false
   },
   "outputs": [
    {
     "data": {
      "text/plain": [
       "<matplotlib.collections.PathCollection at 0xb327a90>"
      ]
     },
     "execution_count": 13,
     "metadata": {},
     "output_type": "execute_result"
    },
    {
     "data": {
      "image/png": "[encoded data removed]",
      "text/plain": [
       "<matplotlib.figure.Figure at 0xb2f27b8>"
      ]
     },
     "metadata": {},
     "output_type": "display_data"
    }
   ],
   "source": [
    "fig=plt.figure()\n",
    "ax=fig.add_subplot(111)\n",
    "ax.scatter(st,cent)"
   ]
  },
  {
   "cell_type": "code",
   "execution_count": 46,
   "metadata": {
    "collapsed": false
   },
   "outputs": [
    {
     "data": {
      "text/plain": [
       "<matplotlib.text.Text at 0xb4856d8>"
      ]
     },
     "execution_count": 46,
     "metadata": {},
     "output_type": "execute_result"
    },
    {
     "data": {
      "image/png": "[encoded data removed]",
      "text/plain": [
       "<matplotlib.figure.Figure at 0xb3a91d0>"
      ]
     },
     "metadata": {},
     "output_type": "display_data"
    }
   ],
   "source": [
    "#fig=plt.figure()\n",
    "#ax=fig.add_subplot(111)\n",
    "\n",
    "fts_pole_center = fts_pole[['Thickness', '90_center', '150_center','220_center']]\n",
    "fts_pole_center.head()\n",
    "Pole_results=fts_pole_center.plot(kind='scatter', x='Thickness', y='90_center', color='Red', label='90gHz')\n",
    "fts_pole_center.plot(kind='scatter', x='Thickness', y='150_center', color='Gray', label='150gHz', ax=Pole_results)\n",
    "fts_pole_center.plot(kind='scatter', x='Thickness', y='220_center', color='Black', label='220gHz', ax=Pole_results)\n",
    "plt.scatter(st,cent)\n",
    "Pole_results.set_xlabel(\"SiO2 Thickness (nm)\")\n",
    "Pole_results.set_ylabel(\"Band center (GHz)\")\n",
    "Pole_results.set_title(\"Band position vs SiO2 Thickness\")\n",
    "\n"
   ]
  },
  {
   "cell_type": "code",
   "execution_count": 35,
   "metadata": {
    "collapsed": false
   },
   "outputs": [
    {
     "data": {
      "text/plain": [
       "(85, 110)"
      ]
     },
     "execution_count": 35,
     "metadata": {},
     "output_type": "execute_result"
    },
    {
     "data": {
      "image/png": "[encoded data removed]",
      "text/plain": [
       "<matplotlib.figure.Figure at 0xb965ef0>"
      ]
     },
     "metadata": {},
     "output_type": "display_data"
    }
   ],
   "source": [
    "#fig=plt.figure()\n",
    "#ax=fig.add_subplot(111)\n",
    "\n",
    "fts_pole_center = fts_pole[['Thickness', '90_center', '150_center','220_center']]\n",
    "fts_pole_center.head()\n",
    "Pole_results=fts_pole_center.plot(kind='scatter', x='Thickness', y='90_center', color='Red', label='90gHz')\n",
    "fts_pole_center.plot(kind='scatter', x='Thickness', y='150_center', color='Gray', label='150gHz', ax=Pole_results)\n",
    "fts_pole_center.plot(kind='scatter', x='Thickness', y='220_center', color='Black', label='220gHz', ax=Pole_results)\n",
    "plt.scatter(st,cent)\n",
    "Pole_results.set_xlabel(\"SiO2 Thickness (nm)\")\n",
    "Pole_results.set_ylabel(\"Band center (GHz)\")\n",
    "Pole_results.set_title(\"Band position vs SiO2 Thickness\")\n",
    "axes=plt.gca()\n",
    "axes.set_xlim(480,540)\n",
    "axes.set_ylim(85,110)"
   ]
  },
  {
   "cell_type": "code",
   "execution_count": 47,
   "metadata": {
    "collapsed": false
   },
   "outputs": [
    {
     "data": {
      "text/plain": [
       "(85, 235)"
      ]
     },
     "execution_count": 47,
     "metadata": {},
     "output_type": "execute_result"
    },
    {
     "data": {
      "image/png": "[encoded data removed]",
      "text/plain": [
       "<matplotlib.figure.Figure at 0xb4f2320>"
      ]
     },
     "metadata": {},
     "output_type": "display_data"
    }
   ],
   "source": [
    "#fig=plt.figure()\n",
    "#ax=fig.add_subplot(111)\n",
    "\n",
    "fts_pole_center = fts_pole[['Thickness', '90_center', '150_center','220_center']]\n",
    "fts_pole_center.head()\n",
    "Pole_results=fts_pole_center.plot(kind='scatter', x='90_center', y='Thickness', color='Red', label='90gHz')\n",
    "fts_pole_center.plot(kind='scatter', x='150_center', y='Thickness', color='Gray', label='150gHz', ax=Pole_results)\n",
    "fts_pole_center.plot(kind='scatter', x='220_center', y='Thickness', color='Black', label='220gHz', ax=Pole_results)\n",
    "plt.scatter(cent,st)\n",
    "Pole_results.set_xlabel(\"Band center (GHz)\")\n",
    "Pole_results.set_ylabel(\"SiO2 Thickness (nm)\")\n",
    "Pole_results.set_title(\"Band position vs SiO2 Thickness\")\n",
    "axes=plt.gca()\n",
    "axes.set_ylim(480,530)\n",
    "axes.set_xlim(85,235)"
   ]
  },
  {
   "cell_type": "code",
   "execution_count": 58,
   "metadata": {
    "collapsed": false
   },
   "outputs": [
    {
     "data": {
      "text/plain": [
       "[<matplotlib.lines.Line2D at 0xb3cac88>]"
      ]
     },
     "execution_count": 58,
     "metadata": {},
     "output_type": "execute_result"
    },
    {
     "data": {
      "image/png": "[encoded data removed]",
      "text/plain": [
       "<matplotlib.figure.Figure at 0xba522b0>"
      ]
     },
     "metadata": {},
     "output_type": "display_data"
    }
   ],
   "source": [
    "# Simple data to display in various forms\n",
    "x = np.linspace(0, 2 * np.pi, 400)\n",
    "y = np.sin(x ** 2)\n",
    "f, ((ax1, ax2), (ax3, ax4)) = plt.subplots(2, 2, sharex='col', sharey='row')\n",
    "ax1.plot(x, y)\n",
    "ax1.set_title('Sharing x per column, y per row')\n",
    "ax2.scatter(x, y)\n",
    "ax3.scatter(x, 2 * y ** 2 - 1, color='r')\n",
    "ax4.plot(x, 2 * y ** 2 - 1, color='r')"
   ]
  },
  {
   "cell_type": "code",
   "execution_count": 16,
   "metadata": {
    "collapsed": false
   },
   "outputs": [
    {
     "data": {
      "text/plain": [
       "<matplotlib.collections.PathCollection at 0xb68e2e8>"
      ]
     },
     "execution_count": 16,
     "metadata": {},
     "output_type": "execute_result"
    },
    {
     "data": {
      "image/png": "[encoded data removed]",
      "text/plain": [
       "<matplotlib.figure.Figure at 0xb34e828>"
      ]
     },
     "metadata": {},
     "output_type": "display_data"
    }
   ],
   "source": [
    "plt.scatter(st,cent)"
   ]
  },
  {
   "cell_type": "code",
   "execution_count": 17,
   "metadata": {
    "collapsed": false
   },
   "outputs": [
    {
     "ename": "KeyError",
     "evalue": "\"['b90GHz_500nm' 'b90GHz_565nm'] not in index\"",
     "output_type": "error",
     "traceback": [
      "\u001b[0;31m---------------------------------------------------------------------------\u001b[0m",
      "\u001b[0;31mKeyError\u001b[0m                                  Traceback (most recent call last)",
      "\u001b[0;32m<ipython-input-17-e6c82c2656cb>\u001b[0m in \u001b[0;36m<module>\u001b[0;34m()\u001b[0m\n\u001b[0;32m----> 1\u001b[0;31m \u001b[0mah\u001b[0m \u001b[1;33m=\u001b[0m \u001b[0mfts_pole\u001b[0m\u001b[1;33m[\u001b[0m\u001b[1;33m[\u001b[0m\u001b[1;34m'b90GHz_500nm'\u001b[0m\u001b[1;33m,\u001b[0m \u001b[1;34m'b90GHz_565nm'\u001b[0m\u001b[1;33m]\u001b[0m\u001b[1;33m]\u001b[0m\u001b[1;33m.\u001b[0m\u001b[0mplot\u001b[0m\u001b[1;33m(\u001b[0m\u001b[1;33m)\u001b[0m\u001b[1;33m\u001b[0m\u001b[0m\n\u001b[0m\u001b[1;32m      2\u001b[0m \u001b[0mah\u001b[0m\u001b[1;33m.\u001b[0m\u001b[0mlegend\u001b[0m\u001b[1;33m(\u001b[0m\u001b[0mlabels\u001b[0m\u001b[1;33m=\u001b[0m\u001b[1;33m[\u001b[0m\u001b[1;34m'abcv'\u001b[0m\u001b[1;33m,\u001b[0m \u001b[1;34m'123'\u001b[0m\u001b[1;33m]\u001b[0m\u001b[1;33m)\u001b[0m\u001b[1;33m\u001b[0m\u001b[0m\n",
      "\u001b[0;32mC:\\Users\\posada\\AppData\\Local\\Continuum\\Anaconda3\\lib\\site-packages\\pandas\\core\\frame.py\u001b[0m in \u001b[0;36m__getitem__\u001b[0;34m(self, key)\u001b[0m\n\u001b[1;32m   2051\u001b[0m         \u001b[1;32mif\u001b[0m \u001b[0misinstance\u001b[0m\u001b[1;33m(\u001b[0m\u001b[0mkey\u001b[0m\u001b[1;33m,\u001b[0m \u001b[1;33m(\u001b[0m\u001b[0mSeries\u001b[0m\u001b[1;33m,\u001b[0m \u001b[0mnp\u001b[0m\u001b[1;33m.\u001b[0m\u001b[0mndarray\u001b[0m\u001b[1;33m,\u001b[0m \u001b[0mIndex\u001b[0m\u001b[1;33m,\u001b[0m \u001b[0mlist\u001b[0m\u001b[1;33m)\u001b[0m\u001b[1;33m)\u001b[0m\u001b[1;33m:\u001b[0m\u001b[1;33m\u001b[0m\u001b[0m\n\u001b[1;32m   2052\u001b[0m             \u001b[1;31m# either boolean or fancy integer index\u001b[0m\u001b[1;33m\u001b[0m\u001b[1;33m\u001b[0m\u001b[0m\n\u001b[0;32m-> 2053\u001b[0;31m             \u001b[1;32mreturn\u001b[0m \u001b[0mself\u001b[0m\u001b[1;33m.\u001b[0m\u001b[0m_getitem_array\u001b[0m\u001b[1;33m(\u001b[0m\u001b[0mkey\u001b[0m\u001b[1;33m)\u001b[0m\u001b[1;33m\u001b[0m\u001b[0m\n\u001b[0m\u001b[1;32m   2054\u001b[0m         \u001b[1;32melif\u001b[0m \u001b[0misinstance\u001b[0m\u001b[1;33m(\u001b[0m\u001b[0mkey\u001b[0m\u001b[1;33m,\u001b[0m \u001b[0mDataFrame\u001b[0m\u001b[1;33m)\u001b[0m\u001b[1;33m:\u001b[0m\u001b[1;33m\u001b[0m\u001b[0m\n\u001b[1;32m   2055\u001b[0m             \u001b[1;32mreturn\u001b[0m \u001b[0mself\u001b[0m\u001b[1;33m.\u001b[0m\u001b[0m_getitem_frame\u001b[0m\u001b[1;33m(\u001b[0m\u001b[0mkey\u001b[0m\u001b[1;33m)\u001b[0m\u001b[1;33m\u001b[0m\u001b[0m\n",
      "\u001b[0;32mC:\\Users\\posada\\AppData\\Local\\Continuum\\Anaconda3\\lib\\site-packages\\pandas\\core\\frame.py\u001b[0m in \u001b[0;36m_getitem_array\u001b[0;34m(self, key)\u001b[0m\n\u001b[1;32m   2095\u001b[0m             \u001b[1;32mreturn\u001b[0m \u001b[0mself\u001b[0m\u001b[1;33m.\u001b[0m\u001b[0mtake\u001b[0m\u001b[1;33m(\u001b[0m\u001b[0mindexer\u001b[0m\u001b[1;33m,\u001b[0m \u001b[0maxis\u001b[0m\u001b[1;33m=\u001b[0m\u001b[1;36m0\u001b[0m\u001b[1;33m,\u001b[0m \u001b[0mconvert\u001b[0m\u001b[1;33m=\u001b[0m\u001b[1;32mFalse\u001b[0m\u001b[1;33m)\u001b[0m\u001b[1;33m\u001b[0m\u001b[0m\n\u001b[1;32m   2096\u001b[0m         \u001b[1;32melse\u001b[0m\u001b[1;33m:\u001b[0m\u001b[1;33m\u001b[0m\u001b[0m\n\u001b[0;32m-> 2097\u001b[0;31m             \u001b[0mindexer\u001b[0m \u001b[1;33m=\u001b[0m \u001b[0mself\u001b[0m\u001b[1;33m.\u001b[0m\u001b[0mix\u001b[0m\u001b[1;33m.\u001b[0m\u001b[0m_convert_to_indexer\u001b[0m\u001b[1;33m(\u001b[0m\u001b[0mkey\u001b[0m\u001b[1;33m,\u001b[0m \u001b[0maxis\u001b[0m\u001b[1;33m=\u001b[0m\u001b[1;36m1\u001b[0m\u001b[1;33m)\u001b[0m\u001b[1;33m\u001b[0m\u001b[0m\n\u001b[0m\u001b[1;32m   2098\u001b[0m             \u001b[1;32mreturn\u001b[0m \u001b[0mself\u001b[0m\u001b[1;33m.\u001b[0m\u001b[0mtake\u001b[0m\u001b[1;33m(\u001b[0m\u001b[0mindexer\u001b[0m\u001b[1;33m,\u001b[0m \u001b[0maxis\u001b[0m\u001b[1;33m=\u001b[0m\u001b[1;36m1\u001b[0m\u001b[1;33m,\u001b[0m \u001b[0mconvert\u001b[0m\u001b[1;33m=\u001b[0m\u001b[1;32mTrue\u001b[0m\u001b[1;33m)\u001b[0m\u001b[1;33m\u001b[0m\u001b[0m\n\u001b[1;32m   2099\u001b[0m \u001b[1;33m\u001b[0m\u001b[0m\n",
      "\u001b[0;32mC:\\Users\\posada\\AppData\\Local\\Continuum\\Anaconda3\\lib\\site-packages\\pandas\\core\\indexing.py\u001b[0m in \u001b[0;36m_convert_to_indexer\u001b[0;34m(self, obj, axis, is_setter)\u001b[0m\n\u001b[1;32m   1228\u001b[0m                 \u001b[0mmask\u001b[0m \u001b[1;33m=\u001b[0m \u001b[0mcheck\u001b[0m \u001b[1;33m==\u001b[0m \u001b[1;33m-\u001b[0m\u001b[1;36m1\u001b[0m\u001b[1;33m\u001b[0m\u001b[0m\n\u001b[1;32m   1229\u001b[0m                 \u001b[1;32mif\u001b[0m \u001b[0mmask\u001b[0m\u001b[1;33m.\u001b[0m\u001b[0many\u001b[0m\u001b[1;33m(\u001b[0m\u001b[1;33m)\u001b[0m\u001b[1;33m:\u001b[0m\u001b[1;33m\u001b[0m\u001b[0m\n\u001b[0;32m-> 1230\u001b[0;31m                     \u001b[1;32mraise\u001b[0m \u001b[0mKeyError\u001b[0m\u001b[1;33m(\u001b[0m\u001b[1;34m'%s not in index'\u001b[0m \u001b[1;33m%\u001b[0m \u001b[0mobjarr\u001b[0m\u001b[1;33m[\u001b[0m\u001b[0mmask\u001b[0m\u001b[1;33m]\u001b[0m\u001b[1;33m)\u001b[0m\u001b[1;33m\u001b[0m\u001b[0m\n\u001b[0m\u001b[1;32m   1231\u001b[0m \u001b[1;33m\u001b[0m\u001b[0m\n\u001b[1;32m   1232\u001b[0m                 \u001b[1;32mreturn\u001b[0m \u001b[0m_values_from_object\u001b[0m\u001b[1;33m(\u001b[0m\u001b[0mindexer\u001b[0m\u001b[1;33m)\u001b[0m\u001b[1;33m\u001b[0m\u001b[0m\n",
      "\u001b[0;31mKeyError\u001b[0m: \"['b90GHz_500nm' 'b90GHz_565nm'] not in index\""
     ]
    }
   ],
   "source": [
    "ah = fts_pole[['b90GHz_500nm', 'b90GHz_565nm']].plot()\n",
    "ah.legend(labels=['abcv', '123'])\n"
   ]
  },
  {
   "cell_type": "code",
   "execution_count": null,
   "metadata": {
    "collapsed": false
   },
   "outputs": [],
   "source": [
    "#Rename headers to something you can work with\n",
    "#data_file.rename(columns={u'Frequency GHz': u'freq'}, inplace=True) #inplace True modifies existing object\n",
    "#data_file.rename(columns={u' MAG[S21]': u'Mag'}, inplace=True)\n",
    "print(list(data_file))"
   ]
  },
  {
   "cell_type": "code",
   "execution_count": null,
   "metadata": {
    "collapsed": false
   },
   "outputs": [],
   "source": [
    "#Thicks=data_file.ix[:,'90gHz_500nm':'220GHz_600nm']\n",
    "#print(Thicks[0:5])"
   ]
  },
  {
   "cell_type": "code",
   "execution_count": null,
   "metadata": {
    "collapsed": false
   },
   "outputs": [],
   "source": [
    "print(data_file[0:5])"
   ]
  },
  {
   "cell_type": "code",
   "execution_count": null,
   "metadata": {
    "collapsed": false
   },
   "outputs": [],
   "source": []
  },
  {
   "cell_type": "code",
   "execution_count": null,
   "metadata": {
    "collapsed": false,
    "scrolled": true
   },
   "outputs": [],
   "source": [
    "#Plot\n",
    "data_file.plot()"
   ]
  },
  {
   "cell_type": "code",
   "execution_count": null,
   "metadata": {
    "collapsed": false
   },
   "outputs": [],
   "source": [
    "data_file.plot.line()"
   ]
  },
  {
   "cell_type": "code",
   "execution_count": null,
   "metadata": {
    "collapsed": true
   },
   "outputs": [],
   "source": []
  }
 ],
 "metadata": {
  "kernelspec": {
   "display_name": "Python 3",
   "language": "python",
   "name": "python3"
  },
  "language_info": {
   "codemirror_mode": {
    "name": "ipython",
    "version": 3
   },
   "file_extension": ".py",
   "mimetype": "text/x-python",
   "name": "python",
   "nbconvert_exporter": "python",
   "pygments_lexer": "ipython3",
   "version": "3.6.0"
  }
 },
 "nbformat": 4,
 "nbformat_minor": 2
}
